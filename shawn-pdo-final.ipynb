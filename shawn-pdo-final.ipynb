{
 "cells": [
  {
   "cell_type": "code",
   "execution_count": 1,
   "metadata": {
    "collapsed": true
   },
   "outputs": [],
   "source": [
    "import grama as gr\n",
    "import pandas as pd\n",
    "\n",
    "from boat_utils_new import *\n",
    "from plotnine import *\n",
    "import matplotlib.pyplot as plt\n",
    "%matplotlib inline\n",
    "\n",
    "DF = gr.Intention()\n",
    "\n",
    "import numpy as np\n",
    "from grama.fit import ft_gp, fit_gp\n",
    "from sklearn.gaussian_process.kernels import ConstantKernel, RBF"
   ]
  },
  {
   "cell_type": "markdown",
   "metadata": {},
   "source": [
    "# PDO Final Project: Kayak Boat Hull Optimization\n",
    "\n",
    "\n",
    "## Executive Summary\n",
    "Designing a boat hull can come with a broad range of design constaints and requirements depending on the desired use. One such desired outcome of a boat hull design might be the stability of the boat as it takes a wave input from one side or another. While some oscillation is inevitable, we can design a boat hull that has the minimum resulting oscillation from an input wave.  \n",
    "    \n",
    "This design study takes a simple model of boat hull design and extends it to answer questions about the hull shape's response to a wave input. To do this, I considered the boat to be a simple system with a gravitational force and a buoyant force. As a starting point, I built off of a model by Zach del Rosario which evaluated the torque due to buoyancy as the boat rotates around its center of mass on flat water. I extended this model to evaluate the net torque on the boat due to both the angle of the water *and* the angle of the boat. This allowed me to simulate an environment where a stationary boat is subject to an arbitrary wave input, described by the angle of the water surrounding the boat. Specifically, my goal was to *minimize* the resulting angle of the boat hull after it was subject to this wave input.  \n",
    "\n",
    "        \n",
    "## Background\n",
    "Boat users come in all breeds. Wakeboarders, fisherman, commuters, and supply chain analysts all rely on boats for one reason or another. Kayaks are one kind of boat which are used commonly in recreation, in which an individual sits with their legs inside of the boat and use a paddle to propel themselves through the water.\n",
    "\n",
    "![kayak](images/kayak0.jpg)\n",
    "*image source*: https://www.australiangeographic.com.au/australian-geographic-adventure/how-to/2012/05/beginners-guide-to-sea-kayaking/\n",
    "\n",
    "As a sea kayaking guide, I was frequently exposed to beginners getting in a kayak for the first time and experience feelings of tippiness in the water. Additionally, traveling through the harbor I found that waves created by nearby boats can be a hazard to novice kayakers who have poor balance. For this reason, boat hull designs should be explored to be made incredibly stable so that beginner kayakers can have more confidence and enjoy themselves more. Admittedly there are other pieces of the design of a kayak hull which may be important to a kayaker. For example, they may be concerned with maneuverability or resistance to motion as they move through the water. However, if we focus on a true beginner kayaker as our key stakeholder, we may assume that these needs are secondary to stability. \n",
    "\n",
    "\n",
    "## Formulation\n",
    "\n",
    "Once again, my goal was to calculate the moment on the boat as the result of both the angle of the hull and the angle of the waterline relative to the global frame. The drawing below attempts to illustrate why this is important. As the water rotates around the hull, the center of buoyanacy changes and the direction of the buoyant vector changes as well. Buoyancy is always normal to the surface of the water. In this diagram, $\\theta_b$ is the the angle of the boat and $\\theta_w$ is the angle of the waterline. \n",
    "\n",
    "![buoyancy](images/buoyancy.jpg)\n",
    "\n",
    "\n",
    "\n",
    "\n",
    "For a given hull shape, I then calculated the resulting moment on the boat at various values of $\\theta_b$ and $\\theta_w$. This turned out to be a rather costly calculatio, but my knowledge of Gaussian Processes (GP) came in quite useful here. I fitted a GP to the two angle input variables to calculate the resulting moment, which allowed me to easily evaluate the moment for any given angle later on. \n",
    "\n",
    "To do something with this moment curve, I used it in the context of a simulation. The simulation was aimed at recreating the effect of a rogue wave on a passive boat hull. The equation of the wave which I studied is described in the function `w_func(t)`, where t is the time variable. For a preset range of timesteps, the torque on the boat and resulting angular postion of the boat is calculated using a standard form for the motion of a rotating object using an arbitrary viscous drag term `b`. The specific value for this drag constant was chosen at random, and does not necessarily reflect reality. \n",
    "\n",
    "$$ \\ddot\\theta_b J = \\Sigma \\tau$$\n",
    "\n",
    "where J is the moment of rotational inertia.  \n",
    "\n",
    "After running the simulation across sufficient time steps, I recorded the maximum angle $\\theta_{max}$ that the boat reached across *all* time steps. In the context of a novice kayaker, a smaller $\\theta_{max}$ is desired because it means that with no control, the boat oscillates less, which translates to more stability and more comfort. \n",
    "\n",
    "Finally, the simple hull model used allowed me to sweep a specific parameter to learn what hull shape gives the smallest oscillations with the same simulation conditions. I chose to vary the 'shape' parameter, $n$. I chose to constrain $n$ within 0 and 4 to keep the hull shape looking 'reasonable,' although this constraint was mostly subjective for this experiment. \n",
    "\n",
    "Formally, the design goal is \n",
    "\n",
    "$$\\min\\, \\text{$\\theta_{max}$}$$\n",
    "$$\\text{wrt.}\\, n$$\n",
    "$$\\text{s.t. } w_{func}(t)$$\n",
    "$$\\text{s.t. } 0.5 < n < 4$$\n",
    "\n",
    "It is worth noting that the equation for the water impulse was actually chosen especially for its magnitude and impact on the overall simulation. The simulation is NOT stable for all inputs. I found that this input matched my physical intuition for what the result should look like, and this is why it was chosen. Additionally, the viscous parameter $b$ was chosen at random, and not validated against any real physical systems. At the end of the day, this is a vastly oversimplified model which should only be used to get an intuition about the effect of hull shapes, and not actually used to design a kayak hull. \n",
    "\n",
    "## Results\n",
    "\n",
    "Below is a series of code that was written to evaluate this model as described. It uses a set of functions found in `boat_utils_new.py` which can be found attached to this repository. The actual results of the model can be found at the bottom of these functions."
   ]
  },
  {
   "cell_type": "markdown",
   "metadata": {
    "collapsed": true
   },
   "source": [
    "## Generate righting moment data\n",
    "`boat_utils_new.py` contains a modified version of `get_buoyant_properties`, `get_equ_waterline`, and `get_moment_curve` which take in not only the angle of the boat but also the angle of the water, both relative to the global frame, and generate a righting moment with these two inputs. \n",
    "\n",
    "### Gaussian model\n",
    "\n",
    "Because it takes so long to calculate the righting moment as a function of two angles, I fit a guassian process which models the righting moment as the output of both the angle of the hull relative to gravity and the angle of the water relative to gravity. Eventually, I simulate water motion, or a wave, with this model. "
   ]
  },
  {
   "cell_type": "code",
   "execution_count": 2,
   "metadata": {
    "collapsed": true
   },
   "outputs": [],
   "source": [
    "def angle_data(X, df_hull, df_mass):\n",
    "    '''\n",
    "    X (iterable): b_l, b_h, b_num, w_l, w_h, w_num = X\n",
    "    '''\n",
    "    b_l, b_h, b_num, w_l, w_h, w_num = X\n",
    "    \n",
    "    df_res = pd.DataFrame()\n",
    "    \n",
    "    for water_angle in np.linspace(w_l, w_h, w_num):\n",
    "        \n",
    "        df_temp = (\n",
    "            get_moment_curve(df_hull, df_mass, water_angle, a_l = b_l, a_h = b_h, num = b_num)\n",
    "            >> gr.tf_select(\n",
    "                'boat_angle',\n",
    "                'M_net'\n",
    "            ) \n",
    "            >> gr.tf_mutate(\n",
    "                water_angle = water_angle,\n",
    "                \n",
    "            )\n",
    "        )\n",
    "\n",
    "        df_res = pd.concat((df_temp, df_res), axis = 0)\n",
    "        \n",
    "    \n",
    "    df_res.reset_index(inplace=True, drop=True)\n",
    "    return df_res\n",
    "\n",
    "def angle_gauss(X, df_hull, df_mass):\n",
    "    '''\n",
    "    X (iterable): [b_l, b_h, b_num, w_l, w_h, w_num] = X\n",
    "    '''\n",
    "    b_l, b_h, b_num, w_l, w_h, w_num = X\n",
    "    \n",
    "    df_angle = angle_data(X, df_hull, df_mass)\n",
    "\n",
    "    md_moment = (\n",
    "        df_angle\n",
    "        >> ft_gp(var=[\"boat_angle\", \"water_angle\"], out=[\"M_net\"], kernels=RBF(.08, length_scale_bounds=\"fixed\"))\n",
    "    )\n",
    "    \n",
    "    return df_angle, md_moment"
   ]
  },
  {
   "cell_type": "markdown",
   "metadata": {},
   "source": [
    "### Moment of inertia\n",
    "The moment of inertia varies with each hull shape, and this function calculates the moment of inertia for a given shape."
   ]
  },
  {
   "cell_type": "code",
   "execution_count": 3,
   "metadata": {
    "collapsed": true
   },
   "outputs": [],
   "source": [
    "def find_J(df_hull, df_mass):\n",
    "    '''\n",
    "    '''\n",
    "    # Find spatial vector between mass points and center of mass\n",
    "    distances = df_hull[[\"x\", \"y\"]].values - df_mass[[\"x\", \"y\"]].values\n",
    "\n",
    "    # calculate moment of intertia assuming uniform mass\n",
    "    mag_squared = []\n",
    "    for distance in distances:\n",
    "        mag_squared.append( (distance[0]**2 + distance[1]**2) )\n",
    "        \n",
    "    s = np.sum(mag_squared)\n",
    "    J = s * df_mass.mass[0]\n",
    "    return J\n",
    "    "
   ]
  },
  {
   "cell_type": "markdown",
   "metadata": {},
   "source": [
    "## Simulate\n",
    "\n",
    "This set of functions can take a set of intial conditions and an equation for the water input and evaluate the response of the boat over time."
   ]
  },
  {
   "cell_type": "code",
   "execution_count": 4,
   "metadata": {
    "collapsed": true
   },
   "outputs": [],
   "source": [
    "def w_func(t):\n",
    "    '''\n",
    "    Define the input wave\n",
    "    '''\n",
    "# This wave was found to be reasonably stable for the boat parameters I am using\n",
    "    w_out = (1 / (1 + (t - 1)**2) - 0.5) * 0.8\n",
    "    if w_out > 0:\n",
    "        return w_out\n",
    "    else: \n",
    "        return 0\n",
    "\n",
    "def update(times, theta_w, theta_b, theta_b_dot, theta_b_ddot, moment, md_moment, J):\n",
    "    '''\n",
    "    Make sure every list is updated\n",
    "    '''\n",
    "    times.append(times[-1] + t_step)\n",
    "\n",
    "# Get input\n",
    "    new_water_input = w_func(times[-1])\n",
    "    theta_w.append(new_water_input)\n",
    "    \n",
    "# Get righting moment\n",
    "    new_moment = (\n",
    "            md_moment\n",
    "            >> gr.ev_df(\n",
    "                gr.df_make(\n",
    "                    boat_angle = theta_b[-1],\n",
    "                    water_angle = theta_w[-1]\n",
    "                )\n",
    "            )\n",
    "            >> gr.tf_mutate(M_net = DF.M_net_mean)\n",
    "            >> gr.tf_select(\"M_net\")\n",
    "        ).values[0][0]\n",
    "    \n",
    "    net_moment = new_moment - b*theta_b_dot[-1] \n",
    "    \n",
    "    moment.append(net_moment)\n",
    "    \n",
    "\n",
    "    new_acceleration = moment[-1]/J\n",
    "    theta_b_ddot.append(new_acceleration)\n",
    "\n",
    "# Get velocity\n",
    "#     new_velocity = (theta_b_ddot[-1]) * t_step + theta_b_dot[-1]\n",
    "    new_velocity = (theta_b_ddot[-1] + theta_b_ddot[-2]) / 2 * t_step + theta_b_dot[-1]\n",
    "    \n",
    "    theta_b_dot.append(new_velocity)\n",
    "\n",
    "# Get position\n",
    "#     new_position = (theta_b_dot[-1]) * t_step + theta_b[-1]\n",
    "    new_position = (theta_b_dot[-1] + theta_b_dot[-2])/2 * t_step + theta_b[-1]\n",
    "    theta_b.append(new_position)\n",
    "    \n",
    "    \n",
    "    lists = times, theta_w, theta_b, theta_b_dot, theta_b_ddot, moment, md_moment, J\n",
    "    return(lists)\n",
    "\n",
    "def run_sim(times, theta_w, theta_b, theta_b_dot, theta_b_ddot, moment, md_moment, J):\n",
    "    while times[-1] < t_run - 2*t_step:\n",
    "        update(times, theta_w, theta_b, theta_b_dot, theta_b_ddot, moment, md_moment, J)\n",
    "    \n",
    "    df_sim = gr.df_make(\n",
    "        times = times, \n",
    "        theta_w = theta_w, \n",
    "        theta_b = theta_b, \n",
    "        theta_b_dot = theta_b_dot, \n",
    "        theta_b_ddot = theta_b_ddot, \n",
    "        moment = moment\n",
    "    )\n",
    "    \n",
    "    df_sim = df_sim.set_index('times')\n",
    "    return df_sim\n",
    "\n",
    "def get_max_angle(df):\n",
    "    '''\n",
    "    Find the maximum angle determined by the boat as it rotates\n",
    "    '''\n",
    "    return df['theta_b'].max()"
   ]
  },
  {
   "cell_type": "markdown",
   "metadata": {},
   "source": [
    "## Kaboodle\n",
    "This function takes as input the shape parameter and passes out the maximum achieved angle of the hull given a set wave input. For lack of better name it is called kaboodle. "
   ]
  },
  {
   "cell_type": "code",
   "execution_count": 5,
   "metadata": {
    "collapsed": true
   },
   "outputs": [],
   "source": [
    "def kaboodle(n, get_df = False):\n",
    "    '''\n",
    "    take in a hull parameter\n",
    "    output a maximum angle with the given wave input\n",
    "    '''\n",
    "# Initial conditions\n",
    "    times = [0, t_step]\n",
    "    theta_w = [0, 0]\n",
    "    theta_b = [0, 0]\n",
    "    theta_b_dot = [0, 0]\n",
    "    theta_b_ddot = [0, 0]\n",
    "    moment = [0,0]\n",
    "\n",
    "# Hull parameters\n",
    "    H = 2 # Height of boat\n",
    "    W = 3.5 # Width of boat\n",
    "#     n = n # Shape parameter\n",
    "    d = .5 # Displacement ratio\n",
    "\n",
    "    X = [H, W, n, d]\n",
    "\n",
    "    df_hull, df_mass = make_hull(X)\n",
    "\n",
    "# Moment of inertia of new hull\n",
    "    J = find_J(df_hull, df_mass)\n",
    "\n",
    "# Angle parameters\n",
    "    b_h = np.pi/2\n",
    "    b_l = -b_h\n",
    "    b_num = 10\n",
    "\n",
    "    w_h = np.pi/6\n",
    "    w_l = -w_h\n",
    "    w_num = 3\n",
    "\n",
    "    Y = [b_l, b_h, b_num, w_l, w_h, w_num]\n",
    "\n",
    "    df_angle, md_moment = angle_gauss(Y, df_hull, df_mass)\n",
    "    \n",
    "    df_sim = run_sim(times, theta_w, theta_b, theta_b_dot, theta_b_ddot, moment, md_moment, J)\n",
    "    max_angle = get_max_angle(df_sim)\n",
    "    \n",
    "    if get_df:\n",
    "        return max_angle, df_sim\n",
    "    \n",
    "    return max_angle"
   ]
  },
  {
   "cell_type": "code",
   "execution_count": 6,
   "metadata": {
    "collapsed": true
   },
   "outputs": [],
   "source": [
    "# Time parameters for simulation\n",
    "t_run = np.pi*4 # [s]\n",
    "t_step = 0.01 # [s]\n",
    "\n",
    "# Damping ratio\n",
    "b = 1"
   ]
  },
  {
   "cell_type": "markdown",
   "metadata": {},
   "source": [
    "We can visualize the result of a single simulation run below. The orange line represents the angle of the water over time, which is greater than zero for only a brief time in the beginning. The blew line shows the resulting motion from the boat, which is slower than I expect an actual boat to move but still seems to reflect a true system by eventually returning back to the stable point at $\\theta_b$ = 0."
   ]
  },
  {
   "cell_type": "code",
   "execution_count": 7,
   "metadata": {},
   "outputs": [
    {
     "data": {
      "text/plain": [
       "<matplotlib.legend.Legend at 0x1b2f58f7e10>"
      ]
     },
     "execution_count": 7,
     "metadata": {},
     "output_type": "execute_result"
    },
    {
     "data": {
      "image/png": "[encoded data removed]",
      "text/plain": [
       "<Figure size 432x288 with 1 Axes>"
      ]
     },
     "metadata": {},
     "output_type": "display_data"
    }
   ],
   "source": [
    "max_angle, df_sim = kaboodle(2, get_df = True)\n",
    "\n",
    "df_sim['theta_b'].plot(label = \"boat\")\n",
    "ts = df_sim.index.tolist()\n",
    "ws=[]\n",
    "for t in ts: \n",
    "    ws.append(w_func(t))\n",
    "plt.plot(ts, ws, label = \"water\")\n",
    "plt.legend()"
   ]
  },
  {
   "cell_type": "markdown",
   "metadata": {},
   "source": [
    "To evaluate the full optimization problem, I test a range of values for the shape parameter which don't break my constraints defined above. The following cell runs the simulation for these various hull shape inputs and evaluates the resulting boat angle for each."
   ]
  },
  {
   "cell_type": "code",
   "execution_count": 8,
   "metadata": {},
   "outputs": [
    {
     "name": "stdout",
     "output_type": "stream",
     "text": [
      "0.31293601184534403\n",
      "0.26811074372856797\n",
      "0.2416190089435548\n",
      "0.21612187763157437\n",
      "0.20528089284346043\n",
      "0.18866812394910062\n",
      "0.1818315889052195\n",
      "0.17094058554005548\n",
      "0.16553350860031102\n",
      "0.15776630139006717\n",
      "0.1537430555256268\n",
      "0.14752316366990778\n",
      "0.14428633944502273\n",
      "0.13845280882854644\n",
      "0.1374486924778395\n",
      "0.13489814235367228\n"
     ]
    }
   ],
   "source": [
    "angles = []\n",
    "for n in np.linspace(0.5, 4, 16):\n",
    "    new = kaboodle(n)\n",
    "    print(new)\n",
    "    angles.append(new)"
   ]
  },
  {
   "cell_type": "markdown",
   "metadata": {},
   "source": [
    "We can visualize this result in the cell below. Interestingly, the relationship seems to never reach a local minimum without the defined constraints. This matches fairly well with my intuition about boat hull shapes - a more square hull translates to a more stable boat. However, I don't have an easy way to validate this assessment. "
   ]
  },
  {
   "cell_type": "code",
   "execution_count": 9,
   "metadata": {},
   "outputs": [
    {
     "data": {
      "text/plain": [
       "Text(0.5, 1.0, 'Angle offset resulting from wave input')"
      ]
     },
     "execution_count": 9,
     "metadata": {},
     "output_type": "execute_result"
    },
    {
     "data": {
      "image/png": "[encoded data removed]",
      "text/plain": [
       "<Figure size 432x288 with 1 Axes>"
      ]
     },
     "metadata": {},
     "output_type": "display_data"
    }
   ],
   "source": [
    "shapes = np.linspace(0.5, 4, 16)\n",
    "plt.plot(shapes, angles)\n",
    "plt.xlabel(\"Shape parameter\")\n",
    "plt.ylabel(\"Maximum angle\")\n",
    "plt.title(\"Angle offset resulting from wave input\")"
   ]
  },
  {
   "cell_type": "markdown",
   "metadata": {
    "collapsed": true
   },
   "source": [
    "## Conclusion\n",
    "In conclusion, I feel that my model helps me to speak more confidently about what kind of kayak shapes are more stable.  A novice kayaker looking for a more stable float will find comfort and ease on a boat with a more square shape hull. \n",
    "\n",
    "Having said this, I have to acknowledge how broad this design space is, and admit that there are many more potential design parameters which should be studied in the future. One that sticks out to me is the fact that we were only concerned with the side to side motion of the kayak, while the majority of the time actually spent in a kayak is spent moving forwards. Things like the complete 3D shape of the hull and other design goals should be explored. Even within the context of the side to side motion, there are several other design parameters that were left untouched. The effects of putting a person in the boat and the effect that this would have on the center of mass could also be explored. \n",
    "\n",
    "While, this simple model does a decent job of illustrating the effect of hull shape on a single design choice, more work should be done to develop a boat which accounts for a broader set of design goals. "
   ]
  }
 ],
 "metadata": {
  "kernelspec": {
   "display_name": "Python 3",
   "language": "python",
   "name": "python3"
  },
  "language_info": {
   "codemirror_mode": {
    "name": "ipython",
    "version": 3
   },
   "file_extension": ".py",
   "mimetype": "text/x-python",
   "name": "python",
   "nbconvert_exporter": "python",
   "pygments_lexer": "ipython3",
   "version": "3.6.1"
  }
 },
 "nbformat": 4,
 "nbformat_minor": 4
}
