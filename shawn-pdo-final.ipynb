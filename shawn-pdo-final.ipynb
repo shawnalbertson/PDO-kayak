{
 "cells": [
  {
   "cell_type": "markdown",
   "metadata": {},
   "source": [
    "# PDO Final Project: Kayak Boat Hull Optimization\n",
    "\n",
    "\n",
    "## Executive Summary\n",
    "Designing a boat hull can come with a broad range of design constaints and requirements depending on the desired use. One such desired outcome of a boat hull design might be the stability of the boat as it takes a wave input from one side or another. While some oscillation is inevitable, we can design a boat hull that has the minimum resulting oscillation from an input wave.  \n",
    "    \n",
    "This design study takes a simple model of boat hull design and extends it to answer questions about the hull shape's response to a wave input. To do this, I considered the boat to be a simple system with a gravitational force and a buoyant force. As a starting point, I built off of a model by Zach del Rosario which evaluated the torque due to buoyancy as the boat rotates around its center of mass on flat water. I extended this model to evaluate the net torque on the boat due to both the angle of the water *and* the angle of the boat. This allowed me to simulate an environment where a stationary boat is subject to an arbitrary wave input, described by the angle of the water surrounding the boat. Specifically, my goal was to *minimize* the resulting angle of the boat hull after it was subject to this wave input.  \n",
    "\n",
    "        \n",
    "## Background\n",
    "Boat users come in all breeds. Wakeboarders, fisherman, commuters, supply chain analysts, all rely on boats for one reason or another. Kayaks are one kind of boat which are used commonly in recreation, in which an individual sits in\n",
    ": A multimedia (text/equations/figures as necessary) description of your project context, including project stakeholders and their needs.\n",
    "\n",
    "## Formulation\n",
    ": A multimedia (text/equations/figures as necessary) description of your project analysis. Must include a formal statement of your optimization problem, details on your model (both functions and distribution) and how you built this model, your optimization strategy (multi-objective? Monte Carlo or FORM? etc.), and method validation results (check for multiple minima, calibration of uncertainty propagation, etc.).\n",
    "            Note that this section must present any and all limitations of your model (functions and distributions), particularly in light of how they affect your Results.\n",
    "        Results: A multimedia (text/equations/figures as necessary) presentation of your results, including observations and analysis of those results in light of your project Background.\n",
    "\n",
    "    Conclusion: A multimedia (text/equations/figures as necessary) description tying specific details from the Results section back to your stakeholder needs (see Background). You must answer the following questions:\n",
    "\n",
    "        “What (if any) insights did you learn about designing for your chosen context and stakeholders?”\n",
    "\n",
    "        “If you did not gain any insights, what future work would be necessary to gain insight into your problem?”\n",
    "        “If you did gain insights, what design decisions would you be inclined to make, based on your current understanding?\n"
   ]
  },
  {
   "cell_type": "code",
   "execution_count": 1,
   "metadata": {},
   "outputs": [],
   "source": [
    "import grama as gr\n",
    "import pandas as pd\n",
    "\n",
    "from boat_utils_new import *\n",
    "from plotnine import *\n",
    "import matplotlib.pyplot as plt\n",
    "%matplotlib inline\n",
    "\n",
    "DF = gr.Intention()\n",
    "\n",
    "import numpy as np\n",
    "from grama.fit import ft_gp, fit_gp\n",
    "from sklearn.gaussian_process.kernels import ConstantKernel, RBF"
   ]
  },
  {
   "cell_type": "code",
   "execution_count": 2,
   "metadata": {
    "collapsed": true
   },
   "outputs": [],
   "source": [
    "def angle_data(X, df_hull, df_mass):\n",
    "    '''\n",
    "    X (iterable): b_l, b_h, b_num, w_l, w_h, w_num = X\n",
    "    '''\n",
    "    b_l, b_h, b_num, w_l, w_h, w_num = X\n",
    "    \n",
    "    df_res = pd.DataFrame()\n",
    "    \n",
    "    for water_angle in np.linspace(w_l, w_h, w_num):\n",
    "        \n",
    "        df_temp = (\n",
    "            get_moment_curve(df_hull, df_mass, water_angle, a_l = b_l, a_h = b_h, num = b_num)\n",
    "            >> gr.tf_select(\n",
    "                'boat_angle',\n",
    "                'M_net'\n",
    "            ) \n",
    "            >> gr.tf_mutate(\n",
    "                water_angle = water_angle,\n",
    "                \n",
    "            )\n",
    "        )\n",
    "\n",
    "        df_res = pd.concat((df_temp, df_res), axis = 0)\n",
    "        \n",
    "    \n",
    "    df_res.reset_index(inplace=True, drop=True)\n",
    "    return df_res"
   ]
  },
  {
   "cell_type": "code",
   "execution_count": 3,
   "metadata": {
    "scrolled": true
   },
   "outputs": [],
   "source": [
    "def angle_gauss(X, df_hull, df_mass):\n",
    "    '''\n",
    "    X (iterable): [b_l, b_h, b_num, w_l, w_h, w_num] = X\n",
    "    '''\n",
    "    b_l, b_h, b_num, w_l, w_h, w_num = X\n",
    "    \n",
    "    df_angle = angle_data(X, df_hull, df_mass)\n",
    "\n",
    "    md_moment = (\n",
    "        df_angle\n",
    "        >> ft_gp(var=[\"boat_angle\", \"water_angle\"], out=[\"M_net\"], kernels=RBF(.08, length_scale_bounds=\"fixed\"))\n",
    "    )\n",
    "    \n",
    "    return df_angle, md_moment"
   ]
  },
  {
   "cell_type": "markdown",
   "metadata": {},
   "source": [
    "### Moment of inertia"
   ]
  },
  {
   "cell_type": "code",
   "execution_count": 4,
   "metadata": {},
   "outputs": [],
   "source": [
    "def find_J(df_hull, df_mass):\n",
    "    '''\n",
    "    '''\n",
    "    # Find spatial vector between mass points and center of mass\n",
    "    distances = df_hull[[\"x\", \"y\"]].values - df_mass[[\"x\", \"y\"]].values\n",
    "\n",
    "    # calculate moment of intertia assuming uniform mass\n",
    "    mag_squared = []\n",
    "    for distance in distances:\n",
    "        mag_squared.append( (distance[0]**2 + distance[1]**2) )\n",
    "        \n",
    "    s = np.sum(mag_squared)\n",
    "    J = s * df_mass.mass[0]\n",
    "    return J\n",
    "    "
   ]
  },
  {
   "cell_type": "markdown",
   "metadata": {},
   "source": [
    "## Simulate"
   ]
  },
  {
   "cell_type": "code",
   "execution_count": 25,
   "metadata": {
    "collapsed": true
   },
   "outputs": [],
   "source": [
    "def w_func(t):\n",
    "    '''\n",
    "    Define the input wave\n",
    "    '''\n",
    "# This wave was found to be reasonably stable for the boat parameters I am using\n",
    "    w_out = (1 / (1 + (t - 1)**2) - 0.5) * 0.6\n",
    "    if w_out > 0:\n",
    "        return w_out\n",
    "    else: \n",
    "        return 0\n",
    "\n",
    "def update(times, theta_w, theta_b, theta_b_dot, theta_b_ddot, moment, md_moment, J):\n",
    "    '''\n",
    "    Make sure every list is updated\n",
    "    '''\n",
    "    times.append(times[-1] + t_step)\n",
    "\n",
    "# Get input\n",
    "    new_water_input = w_func(times[-1])\n",
    "    theta_w.append(new_water_input)\n",
    "    \n",
    "# Get righting moment\n",
    "    new_moment = (\n",
    "            md_moment\n",
    "            >> gr.ev_df(\n",
    "                gr.df_make(\n",
    "                    boat_angle = theta_b[-1],\n",
    "                    water_angle = theta_w[-1]\n",
    "                )\n",
    "            )\n",
    "            >> gr.tf_mutate(M_net = DF.M_net_mean)\n",
    "            >> gr.tf_select(\"M_net\")\n",
    "        ).values[0][0]\n",
    "    \n",
    "#     print()\n",
    "    net_moment = new_moment - b*theta_b_dot[-1] \n",
    "    \n",
    "    moment.append(net_moment)\n",
    "    \n",
    "# Get acceleration\n",
    "#     torque = -moment[-1] - b*theta_b_dot[-1] \n",
    "\n",
    "    new_acceleration = moment[-1]/J\n",
    "    theta_b_ddot.append(new_acceleration)\n",
    "\n",
    "# Get velocity\n",
    "#     new_velocity = (theta_b_ddot[-1] - theta_b_ddot[-2]) * t_step + theta_b_dot[-1]\n",
    "#     new_velocity = (theta_b_ddot[-1]) * t_step + theta_b_dot[-1]\n",
    "    new_velocity = (theta_b_ddot[-1] + theta_b_ddot[-2]) / 2 * t_step + theta_b_dot[-1]\n",
    "    \n",
    "    theta_b_dot.append(new_velocity)\n",
    "\n",
    "# Get position\n",
    "#     new_position = (theta_b_dot[-1] - theta_b_dot[-2]) * t_step + theta_b[-1]\n",
    "#     new_position = (theta_b_dot[-1]) * t_step + theta_b[-1]\n",
    "    new_position = (theta_b_dot[-1] + theta_b_dot[-2])/2 * t_step + theta_b[-1]\n",
    "    theta_b.append(new_position)\n",
    "    \n",
    "    \n",
    "    lists = times, theta_w, theta_b, theta_b_dot, theta_b_ddot, moment, md_moment, J\n",
    "    return(lists)\n",
    "\n",
    "def run_sim(times, theta_w, theta_b, theta_b_dot, theta_b_ddot, moment, md_moment, J):\n",
    "    while times[-1] < t_run - 2*t_step:\n",
    "        update(times, theta_w, theta_b, theta_b_dot, theta_b_ddot, moment, md_moment, J)\n",
    "    \n",
    "    df_sim = gr.df_make(\n",
    "        times = times, \n",
    "        theta_w = theta_w, \n",
    "        theta_b = theta_b, \n",
    "        theta_b_dot = theta_b_dot, \n",
    "        theta_b_ddot = theta_b_ddot, \n",
    "        moment = moment\n",
    "    )\n",
    "    \n",
    "    df_sim = df_sim.set_index('times')\n",
    "    return df_sim\n",
    "\n",
    "def get_max_angle(df):\n",
    "    '''\n",
    "    Find the maximum angle determined by the boat as it rotates\n",
    "    '''\n",
    "    return df['theta_b'].max()"
   ]
  },
  {
   "cell_type": "code",
   "execution_count": 26,
   "metadata": {
    "collapsed": true
   },
   "outputs": [],
   "source": [
    "def kaboodle(n):\n",
    "    '''\n",
    "    take in a hull parameter\n",
    "    output a maximum angle with the given wave input\n",
    "    '''\n",
    "# Initial conditions\n",
    "    times = [0, t_step]\n",
    "    theta_w = [0, 0]\n",
    "    theta_b = [0, 0]\n",
    "    theta_b_dot = [0, 0]\n",
    "    theta_b_ddot = [0, 0]\n",
    "    moment = [0,0]\n",
    "\n",
    "# Hull parameters\n",
    "    H = 2 # Height of boat\n",
    "    W = 3.5 # Width of boat\n",
    "#     n = n # Shape parameter\n",
    "    d = .5 # Displacement ratio\n",
    "\n",
    "    X = [H, W, n, d]\n",
    "\n",
    "    df_hull, df_mass = make_hull(X)\n",
    "\n",
    "# Moment of inertia of new hull\n",
    "    J = find_J(df_hull, df_mass)\n",
    "\n",
    "# Angle parameters\n",
    "    b_h = np.pi/2\n",
    "    b_l = -b_h\n",
    "    b_num = 10\n",
    "\n",
    "    w_h = np.pi/6\n",
    "    w_l = -w_h\n",
    "    w_num = 3\n",
    "\n",
    "    Y = [b_l, b_h, b_num, w_l, w_h, w_num]\n",
    "\n",
    "    df_angle, md_moment = angle_gauss(Y, df_hull, df_mass)\n",
    "    \n",
    "    df_sim = run_sim(times, theta_w, theta_b, theta_b_dot, theta_b_ddot, moment, md_moment, J)\n",
    "    max_angle = get_max_angle(df_sim)\n",
    "    \n",
    "    return max_angle"
   ]
  },
  {
   "cell_type": "code",
   "execution_count": 27,
   "metadata": {
    "collapsed": true
   },
   "outputs": [],
   "source": [
    "# Time parameters for simulation\n",
    "t_run = np.pi*4 # [s]\n",
    "t_step = 0.01 # [s]\n",
    "\n",
    "# Damping ratio\n",
    "b = 1"
   ]
  },
  {
   "cell_type": "code",
   "execution_count": 29,
   "metadata": {
    "scrolled": true
   },
   "outputs": [
    {
     "name": "stdout",
     "output_type": "stream",
     "text": [
      "0.024249030749918705\n",
      "0.021686846221204644\n",
      "0.019876643849168124\n",
      "0.01822225479999305\n",
      "0.016580669329502837\n",
      "0.015952727475426743\n"
     ]
    },
    {
     "data": {
      "text/plain": [
       "[0.024249030749918705,\n",
       " 0.021686846221204644,\n",
       " 0.019876643849168124,\n",
       " 0.01822225479999305,\n",
       " 0.016580669329502837,\n",
       " 0.015952727475426743]"
      ]
     },
     "execution_count": 29,
     "metadata": {},
     "output_type": "execute_result"
    }
   ],
   "source": [
    "angles = []\n",
    "for n in np.linspace(0.5, 1.5, 6):\n",
    "    new = kaboodle(n)\n",
    "    print(new)\n",
    "    angles.append(new)\n",
    "\n",
    "angles"
   ]
  },
  {
   "cell_type": "code",
   "execution_count": 11,
   "metadata": {},
   "outputs": [],
   "source": [
    "md_minimize = (\n",
    "    gr.Model()\n",
    "    >> gr.cp_function(\n",
    "        fun = lambda X: kaboodle(X[0]),\n",
    "        var = [\"n\"],\n",
    "        out = [\"max_angle\"]\n",
    "    )\n",
    "    >> gr.cp_bounds(\n",
    "        n = (0.5, 3)\n",
    "    )\n",
    ")"
   ]
  },
  {
   "cell_type": "code",
   "execution_count": 12,
   "metadata": {},
   "outputs": [
    {
     "data": {
      "text/html": [
       "<div>\n",
       "<style scoped>\n",
       "    .dataframe tbody tr th:only-of-type {\n",
       "        vertical-align: middle;\n",
       "    }\n",
       "\n",
       "    .dataframe tbody tr th {\n",
       "        vertical-align: top;\n",
       "    }\n",
       "\n",
       "    .dataframe thead th {\n",
       "        text-align: right;\n",
       "    }\n",
       "</style>\n",
       "<table border=\"1\" class=\"dataframe\">\n",
       "  <thead>\n",
       "    <tr style=\"text-align: right;\">\n",
       "      <th></th>\n",
       "      <th>n</th>\n",
       "      <th>n_0</th>\n",
       "      <th>max_angle</th>\n",
       "      <th>success</th>\n",
       "      <th>message</th>\n",
       "      <th>n_iter</th>\n",
       "    </tr>\n",
       "  </thead>\n",
       "  <tbody>\n",
       "    <tr>\n",
       "      <th>0</th>\n",
       "      <td>1.75</td>\n",
       "      <td>1.75</td>\n",
       "      <td>0.15738</td>\n",
       "      <td>True</td>\n",
       "      <td>Optimization terminated successfully</td>\n",
       "      <td>1</td>\n",
       "    </tr>\n",
       "  </tbody>\n",
       "</table>\n",
       "</div>"
      ],
      "text/plain": [
       "      n   n_0  max_angle  success                               message  \\\n",
       "0  1.75  1.75    0.15738     True  Optimization terminated successfully   \n",
       "\n",
       "   n_iter  \n",
       "0       1  "
      ]
     },
     "execution_count": 12,
     "metadata": {},
     "output_type": "execute_result"
    }
   ],
   "source": [
    "(\n",
    "    md_minimize\n",
    "    >> gr.ev_min(\n",
    "        out_min = \"max_angle\"\n",
    "    )\n",
    ")"
   ]
  },
  {
   "cell_type": "code",
   "execution_count": null,
   "metadata": {},
   "outputs": [],
   "source": [
    "(\n",
    "df_hull\n",
    "    >> ggplot(aes(\"x\", \"y\"))\n",
    "    + geom_point()\n",
    "    + theme_minimal()\n",
    "    + coord_fixed()\n",
    ")"
   ]
  },
  {
   "cell_type": "code",
   "execution_count": null,
   "metadata": {
    "scrolled": true
   },
   "outputs": [],
   "source": [
    "# for n in np.linspace(0.5, 3, 6):\n",
    "#     max_angle, df_sim = kaboodle(n)\n",
    "#     print(max_angle)"
   ]
  },
  {
   "cell_type": "markdown",
   "metadata": {},
   "source": [
    "Run once and get max angle"
   ]
  },
  {
   "cell_type": "code",
   "execution_count": null,
   "metadata": {},
   "outputs": [],
   "source": [
    "df_sim['theta_b'].plot(label = \"boat\")\n",
    "# df_sim['moment'].plot(label = \"moment\")\n",
    "ts = df_sim.index.tolist()\n",
    "ws=[]\n",
    "for t in ts: \n",
    "    ws.append(w_func(t))\n",
    "plt.plot(ts, ws, label = \"water\")\n",
    "plt.legend()\n",
    "# plt.ylim(-1, 5)"
   ]
  },
  {
   "cell_type": "code",
   "execution_count": null,
   "metadata": {
    "collapsed": true
   },
   "outputs": [],
   "source": []
  }
 ],
 "metadata": {
  "kernelspec": {
   "display_name": "Python 3",
   "language": "python",
   "name": "python3"
  },
  "language_info": {
   "codemirror_mode": {
    "name": "ipython",
    "version": 3
   },
   "file_extension": ".py",
   "mimetype": "text/x-python",
   "name": "python",
   "nbconvert_exporter": "python",
   "pygments_lexer": "ipython3",
   "version": "3.6.1"
  }
 },
 "nbformat": 4,
 "nbformat_minor": 4
}
